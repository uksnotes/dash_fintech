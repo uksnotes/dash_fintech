{
 "cells": [
  {
   "cell_type": "code",
   "execution_count": 1,
   "id": "4cfbe36f",
   "metadata": {},
   "outputs": [
    {
     "name": "stderr",
     "output_type": "stream",
     "text": [
      "C:\\Users\\leecc\\AppData\\Local\\Temp\\ipykernel_10496\\693147478.py:3: UserWarning: \n",
      "The dash_core_components package is deprecated. Please replace\n",
      "`import dash_core_components as dcc` with `from dash import dcc`\n",
      "  import dash_core_components as dcc\n",
      "C:\\Users\\leecc\\AppData\\Local\\Temp\\ipykernel_10496\\693147478.py:4: UserWarning: \n",
      "The dash_html_components package is deprecated. Please replace\n",
      "`import dash_html_components as html` with `from dash import html`\n",
      "  import dash_html_components as html\n"
     ]
    }
   ],
   "source": [
    "import pandas as pd\n",
    "import dash\n",
    "import dash_core_components as dcc\n",
    "import dash_html_components as html\n",
    "import plotly.graph_objs as go\n",
    "import plotly.express as px"
   ]
  },
  {
   "cell_type": "code",
   "execution_count": 2,
   "id": "7c51038d",
   "metadata": {},
   "outputs": [],
   "source": [
    "df = pd.read_csv('profit.csv')"
   ]
  },
  {
   "cell_type": "code",
   "execution_count": 3,
   "id": "06e04e92",
   "metadata": {
    "scrolled": true
   },
   "outputs": [
    {
     "data": {
      "text/html": [
       "<div>\n",
       "<style scoped>\n",
       "    .dataframe tbody tr th:only-of-type {\n",
       "        vertical-align: middle;\n",
       "    }\n",
       "\n",
       "    .dataframe tbody tr th {\n",
       "        vertical-align: top;\n",
       "    }\n",
       "\n",
       "    .dataframe thead th {\n",
       "        text-align: right;\n",
       "    }\n",
       "</style>\n",
       "<table border=\"1\" class=\"dataframe\">\n",
       "  <thead>\n",
       "    <tr style=\"text-align: right;\">\n",
       "      <th></th>\n",
       "      <th>R&amp;D Spend</th>\n",
       "      <th>Administration</th>\n",
       "      <th>Marketing Spend</th>\n",
       "      <th>State</th>\n",
       "      <th>Profit</th>\n",
       "      <th>date</th>\n",
       "    </tr>\n",
       "  </thead>\n",
       "  <tbody>\n",
       "    <tr>\n",
       "      <th>0</th>\n",
       "      <td>165349.20</td>\n",
       "      <td>136897.80</td>\n",
       "      <td>471784.10</td>\n",
       "      <td>New York</td>\n",
       "      <td>192261.83</td>\n",
       "      <td>May-11</td>\n",
       "    </tr>\n",
       "    <tr>\n",
       "      <th>1</th>\n",
       "      <td>162597.70</td>\n",
       "      <td>151377.59</td>\n",
       "      <td>443898.53</td>\n",
       "      <td>California</td>\n",
       "      <td>191792.06</td>\n",
       "      <td>Jun-11</td>\n",
       "    </tr>\n",
       "    <tr>\n",
       "      <th>2</th>\n",
       "      <td>153441.51</td>\n",
       "      <td>101145.55</td>\n",
       "      <td>407934.54</td>\n",
       "      <td>Florida</td>\n",
       "      <td>191050.39</td>\n",
       "      <td>Jul-11</td>\n",
       "    </tr>\n",
       "    <tr>\n",
       "      <th>3</th>\n",
       "      <td>144372.41</td>\n",
       "      <td>118671.85</td>\n",
       "      <td>383199.62</td>\n",
       "      <td>New York</td>\n",
       "      <td>182901.99</td>\n",
       "      <td>Aug-11</td>\n",
       "    </tr>\n",
       "    <tr>\n",
       "      <th>4</th>\n",
       "      <td>142107.34</td>\n",
       "      <td>91391.77</td>\n",
       "      <td>366168.42</td>\n",
       "      <td>Florida</td>\n",
       "      <td>166187.94</td>\n",
       "      <td>Sep-11</td>\n",
       "    </tr>\n",
       "  </tbody>\n",
       "</table>\n",
       "</div>"
      ],
      "text/plain": [
       "   R&D Spend  Administration  Marketing Spend       State     Profit    date\n",
       "0  165349.20       136897.80        471784.10    New York  192261.83  May-11\n",
       "1  162597.70       151377.59        443898.53  California  191792.06  Jun-11\n",
       "2  153441.51       101145.55        407934.54     Florida  191050.39  Jul-11\n",
       "3  144372.41       118671.85        383199.62    New York  182901.99  Aug-11\n",
       "4  142107.34        91391.77        366168.42     Florida  166187.94  Sep-11"
      ]
     },
     "execution_count": 3,
     "metadata": {},
     "output_type": "execute_result"
    }
   ],
   "source": [
    "df.head()"
   ]
  },
  {
   "cell_type": "code",
   "execution_count": 4,
   "id": "0059ea1c",
   "metadata": {
    "scrolled": true
   },
   "outputs": [
    {
     "data": {
      "text/plain": [
       "Index(['R&D Spend', 'Administration', 'Marketing Spend', 'State', 'Profit',\n",
       "       'date'],\n",
       "      dtype='object')"
      ]
     },
     "execution_count": 4,
     "metadata": {},
     "output_type": "execute_result"
    }
   ],
   "source": [
    "df.columns"
   ]
  },
  {
   "cell_type": "code",
   "execution_count": 5,
   "id": "8a6b2ad9",
   "metadata": {},
   "outputs": [],
   "source": [
    "#change columns \n",
    "df = df.rename(columns = {'R&D Spend':'rd', 'Marketing Spend': 'marketing',\n",
    "                          'Administration':'admin', 'State': 'state', 'Profit': 'profit'\n",
    "                         })"
   ]
  },
  {
   "cell_type": "code",
   "execution_count": 6,
   "id": "9c3b5a02",
   "metadata": {},
   "outputs": [
    {
     "data": {
      "text/html": [
       "<div>\n",
       "<style scoped>\n",
       "    .dataframe tbody tr th:only-of-type {\n",
       "        vertical-align: middle;\n",
       "    }\n",
       "\n",
       "    .dataframe tbody tr th {\n",
       "        vertical-align: top;\n",
       "    }\n",
       "\n",
       "    .dataframe thead th {\n",
       "        text-align: right;\n",
       "    }\n",
       "</style>\n",
       "<table border=\"1\" class=\"dataframe\">\n",
       "  <thead>\n",
       "    <tr style=\"text-align: right;\">\n",
       "      <th></th>\n",
       "      <th>rd</th>\n",
       "      <th>admin</th>\n",
       "      <th>marketing</th>\n",
       "      <th>state</th>\n",
       "      <th>profit</th>\n",
       "      <th>date</th>\n",
       "    </tr>\n",
       "  </thead>\n",
       "  <tbody>\n",
       "    <tr>\n",
       "      <th>0</th>\n",
       "      <td>165349.20</td>\n",
       "      <td>136897.80</td>\n",
       "      <td>471784.10</td>\n",
       "      <td>New York</td>\n",
       "      <td>192261.83</td>\n",
       "      <td>May-11</td>\n",
       "    </tr>\n",
       "    <tr>\n",
       "      <th>1</th>\n",
       "      <td>162597.70</td>\n",
       "      <td>151377.59</td>\n",
       "      <td>443898.53</td>\n",
       "      <td>California</td>\n",
       "      <td>191792.06</td>\n",
       "      <td>Jun-11</td>\n",
       "    </tr>\n",
       "    <tr>\n",
       "      <th>2</th>\n",
       "      <td>153441.51</td>\n",
       "      <td>101145.55</td>\n",
       "      <td>407934.54</td>\n",
       "      <td>Florida</td>\n",
       "      <td>191050.39</td>\n",
       "      <td>Jul-11</td>\n",
       "    </tr>\n",
       "    <tr>\n",
       "      <th>3</th>\n",
       "      <td>144372.41</td>\n",
       "      <td>118671.85</td>\n",
       "      <td>383199.62</td>\n",
       "      <td>New York</td>\n",
       "      <td>182901.99</td>\n",
       "      <td>Aug-11</td>\n",
       "    </tr>\n",
       "    <tr>\n",
       "      <th>4</th>\n",
       "      <td>142107.34</td>\n",
       "      <td>91391.77</td>\n",
       "      <td>366168.42</td>\n",
       "      <td>Florida</td>\n",
       "      <td>166187.94</td>\n",
       "      <td>Sep-11</td>\n",
       "    </tr>\n",
       "  </tbody>\n",
       "</table>\n",
       "</div>"
      ],
      "text/plain": [
       "          rd      admin  marketing       state     profit    date\n",
       "0  165349.20  136897.80  471784.10    New York  192261.83  May-11\n",
       "1  162597.70  151377.59  443898.53  California  191792.06  Jun-11\n",
       "2  153441.51  101145.55  407934.54     Florida  191050.39  Jul-11\n",
       "3  144372.41  118671.85  383199.62    New York  182901.99  Aug-11\n",
       "4  142107.34   91391.77  366168.42     Florida  166187.94  Sep-11"
      ]
     },
     "execution_count": 6,
     "metadata": {},
     "output_type": "execute_result"
    }
   ],
   "source": [
    "df.head()"
   ]
  },
  {
   "cell_type": "code",
   "execution_count": 7,
   "id": "515b002f",
   "metadata": {},
   "outputs": [],
   "source": [
    "# df.to_csv('df.csv', index = False )"
   ]
  },
  {
   "cell_type": "code",
   "execution_count": 8,
   "id": "d083b13c",
   "metadata": {},
   "outputs": [],
   "source": [
    "app = dash.Dash()"
   ]
  },
  {
   "cell_type": "code",
   "execution_count": 9,
   "id": "0e3fba74",
   "metadata": {},
   "outputs": [],
   "source": [
    "app.layout = html.Div([\n",
    "    html.H1(children = 'admin vs profit', style = {'textAlign':'center', 'color':'blue', 'font-weight': 'bold'}),\n",
    "    html.Div('Scatter Plot', style = {'textAlign':'center', 'color':'red'}),\n",
    "    \n",
    "    dcc.Graph(\n",
    "        id = 'fintech_sample', \n",
    "        figure = {'data': [\n",
    "            go.Scatter(x = df.admin, y = df.profit, mode = 'markers')\n",
    "        ],\n",
    "        'layout': {\n",
    "            'title':'Scatter plot of admin vs profit '}\n",
    "        }\n",
    "    )\n",
    "])\n"
   ]
  },
  {
   "cell_type": "code",
   "execution_count": 10,
   "id": "4d1047a8",
   "metadata": {
    "scrolled": true
   },
   "outputs": [
    {
     "name": "stdout",
     "output_type": "stream",
     "text": [
      "Dash is running on http://127.0.0.1:4050/\n",
      "\n",
      " * Serving Flask app \"__main__\" (lazy loading)\n",
      " * Environment: production\n",
      "\u001b[31m   WARNING: This is a development server. Do not use it in a production deployment.\u001b[0m\n",
      "\u001b[2m   Use a production WSGI server instead.\u001b[0m\n",
      " * Debug mode: off\n"
     ]
    },
    {
     "name": "stderr",
     "output_type": "stream",
     "text": [
      " * Running on http://127.0.0.1:4050/ (Press CTRL+C to quit)\n",
      "127.0.0.1 - - [04/Mar/2023 20:55:16] \"GET / HTTP/1.1\" 200 -\n",
      "127.0.0.1 - - [04/Mar/2023 20:55:16] \"GET /_dash-dependencies HTTP/1.1\" 200 -\n",
      "127.0.0.1 - - [04/Mar/2023 20:55:16] \"GET /_dash-layout HTTP/1.1\" 200 -\n",
      "127.0.0.1 - - [04/Mar/2023 20:55:17] \"GET /_dash-component-suites/dash/dcc/async-graph.js HTTP/1.1\" 200 -\n",
      "127.0.0.1 - - [04/Mar/2023 20:55:17] \"GET /_dash-component-suites/dash/dcc/async-plotlyjs.js HTTP/1.1\" 200 -\n"
     ]
    }
   ],
   "source": [
    "if __name__ == '__main__':\n",
    "    app.run_server(port = 4050)"
   ]
  },
  {
   "cell_type": "code",
   "execution_count": 11,
   "id": "ded2de4d",
   "metadata": {},
   "outputs": [],
   "source": [
    "# rd vs profit\n",
    "app.layout = html.Div([\n",
    "    html.H1(children = 'rd vs profit', style = {'textAlign':'center', 'color':'blue', 'font-weight': 'bold'}),\n",
    "    html.Div('Scatter Plot', style = {'textAlign':'center', 'color':'red'}),\n",
    "    \n",
    "    dcc.Graph(\n",
    "        id = 'fintech_sample', \n",
    "        figure = {'data': [\n",
    "            go.Scatter(x = df.rd, y = df.profit, mode = 'markers')\n",
    "        ],\n",
    "        'layout': {\n",
    "            'title':'Scatter plot of rd vs profit '}\n",
    "        }\n",
    "    )\n",
    "])\n"
   ]
  },
  {
   "cell_type": "code",
   "execution_count": 12,
   "id": "528f34ca",
   "metadata": {
    "scrolled": true
   },
   "outputs": [
    {
     "name": "stdout",
     "output_type": "stream",
     "text": [
      "Dash is running on http://127.0.0.1:4050/\n",
      "\n",
      " * Serving Flask app \"__main__\" (lazy loading)\n",
      " * Environment: production\n",
      "\u001b[31m   WARNING: This is a development server. Do not use it in a production deployment.\u001b[0m\n",
      "\u001b[2m   Use a production WSGI server instead.\u001b[0m\n",
      " * Debug mode: off\n"
     ]
    },
    {
     "name": "stderr",
     "output_type": "stream",
     "text": [
      " * Running on http://127.0.0.1:4050/ (Press CTRL+C to quit)\n",
      "127.0.0.1 - - [04/Mar/2023 20:55:24] \"GET / HTTP/1.1\" 200 -\n",
      "127.0.0.1 - - [04/Mar/2023 20:55:24] \"GET /_dash-layout HTTP/1.1\" 200 -\n",
      "127.0.0.1 - - [04/Mar/2023 20:55:24] \"GET /_dash-dependencies HTTP/1.1\" 200 -\n",
      "127.0.0.1 - - [04/Mar/2023 20:55:25] \"GET /_dash-component-suites/dash/dcc/async-graph.js HTTP/1.1\" 200 -\n",
      "127.0.0.1 - - [04/Mar/2023 20:55:25] \"GET /_dash-component-suites/dash/dcc/async-plotlyjs.js HTTP/1.1\" 200 -\n"
     ]
    }
   ],
   "source": [
    "if __name__ == '__main__':\n",
    "    app.run_server(port = 4050)"
   ]
  },
  {
   "cell_type": "code",
   "execution_count": 13,
   "id": "9bc67b96",
   "metadata": {},
   "outputs": [],
   "source": [
    "# plotting xaxis and yaxis title\n",
    "app.layout = html.Div([\n",
    "    html.H1(children = 'rd vs profit', style = {'textAlign':'center', 'color':'blue', 'font-weight': 'bold'}),\n",
    "    html.Div('Scatter Plot', style = {'textAlign':'center', 'color':'red'}),\n",
    "    \n",
    "    dcc.Graph(\n",
    "        id = 'fintech_sample', \n",
    "        figure = {'data': [\n",
    "            go.Scatter(x = df.rd, y = df.profit, mode = 'markers')\n",
    "        ],\n",
    "        'layout': {\n",
    "            'title':'Scatter plot of rd vs profit ',\n",
    "            'xaxis':{'title': 'rd'},\n",
    "            'yaxis':{'title': 'profit'}}\n",
    "        }\n",
    "    )\n",
    "])\n"
   ]
  },
  {
   "cell_type": "code",
   "execution_count": 14,
   "id": "817e3f62",
   "metadata": {
    "scrolled": true
   },
   "outputs": [
    {
     "name": "stdout",
     "output_type": "stream",
     "text": [
      "Dash is running on http://127.0.0.1:4050/\n",
      "\n",
      " * Serving Flask app \"__main__\" (lazy loading)\n",
      " * Environment: production\n",
      "\u001b[31m   WARNING: This is a development server. Do not use it in a production deployment.\u001b[0m\n",
      "\u001b[2m   Use a production WSGI server instead.\u001b[0m\n",
      " * Debug mode: off\n"
     ]
    },
    {
     "name": "stderr",
     "output_type": "stream",
     "text": [
      " * Running on http://127.0.0.1:4050/ (Press CTRL+C to quit)\n",
      "127.0.0.1 - - [04/Mar/2023 20:55:33] \"GET / HTTP/1.1\" 200 -\n",
      "127.0.0.1 - - [04/Mar/2023 20:55:33] \"GET /_dash-layout HTTP/1.1\" 200 -\n",
      "127.0.0.1 - - [04/Mar/2023 20:55:33] \"GET /_dash-dependencies HTTP/1.1\" 200 -\n",
      "127.0.0.1 - - [04/Mar/2023 20:55:33] \"GET /_dash-component-suites/dash/dcc/async-graph.js HTTP/1.1\" 200 -\n",
      "127.0.0.1 - - [04/Mar/2023 20:55:33] \"GET /_dash-component-suites/dash/dcc/async-plotlyjs.js HTTP/1.1\" 200 -\n"
     ]
    }
   ],
   "source": [
    "if __name__ == '__main__':\n",
    "    app.run_server(port = 4050)"
   ]
  },
  {
   "cell_type": "code",
   "execution_count": 15,
   "id": "cc3b8863",
   "metadata": {},
   "outputs": [],
   "source": [
    "df_states = pd.DataFrame(df.groupby('state')['profit'].agg(['mean', 'sum', 'count']))\n",
    "df_states.reset_index(inplace=True)"
   ]
  },
  {
   "cell_type": "code",
   "execution_count": 16,
   "id": "5876a853",
   "metadata": {},
   "outputs": [
    {
     "data": {
      "text/html": [
       "<div>\n",
       "<style scoped>\n",
       "    .dataframe tbody tr th:only-of-type {\n",
       "        vertical-align: middle;\n",
       "    }\n",
       "\n",
       "    .dataframe tbody tr th {\n",
       "        vertical-align: top;\n",
       "    }\n",
       "\n",
       "    .dataframe thead th {\n",
       "        text-align: right;\n",
       "    }\n",
       "</style>\n",
       "<table border=\"1\" class=\"dataframe\">\n",
       "  <thead>\n",
       "    <tr style=\"text-align: right;\">\n",
       "      <th></th>\n",
       "      <th>state</th>\n",
       "      <th>mean</th>\n",
       "      <th>sum</th>\n",
       "      <th>count</th>\n",
       "    </tr>\n",
       "  </thead>\n",
       "  <tbody>\n",
       "    <tr>\n",
       "      <th>0</th>\n",
       "      <td>California</td>\n",
       "      <td>103905.175294</td>\n",
       "      <td>1766387.98</td>\n",
       "      <td>17</td>\n",
       "    </tr>\n",
       "    <tr>\n",
       "      <th>1</th>\n",
       "      <td>Florida</td>\n",
       "      <td>118774.024375</td>\n",
       "      <td>1900384.39</td>\n",
       "      <td>16</td>\n",
       "    </tr>\n",
       "    <tr>\n",
       "      <th>2</th>\n",
       "      <td>New York</td>\n",
       "      <td>113756.446471</td>\n",
       "      <td>1933859.59</td>\n",
       "      <td>17</td>\n",
       "    </tr>\n",
       "  </tbody>\n",
       "</table>\n",
       "</div>"
      ],
      "text/plain": [
       "        state           mean         sum  count\n",
       "0  California  103905.175294  1766387.98     17\n",
       "1     Florida  118774.024375  1900384.39     16\n",
       "2    New York  113756.446471  1933859.59     17"
      ]
     },
     "execution_count": 16,
     "metadata": {},
     "output_type": "execute_result"
    }
   ],
   "source": [
    "df_states"
   ]
  },
  {
   "cell_type": "code",
   "execution_count": 17,
   "id": "8d9e339a",
   "metadata": {},
   "outputs": [
    {
     "name": "stdout",
     "output_type": "stream",
     "text": [
      "Dash is running on http://127.0.0.1:4050/\n",
      "\n",
      " * Serving Flask app \"__main__\" (lazy loading)\n",
      " * Environment: production\n",
      "\u001b[31m   WARNING: This is a development server. Do not use it in a production deployment.\u001b[0m\n",
      "\u001b[2m   Use a production WSGI server instead.\u001b[0m\n",
      " * Debug mode: off\n"
     ]
    },
    {
     "name": "stderr",
     "output_type": "stream",
     "text": [
      " * Running on http://127.0.0.1:4050/ (Press CTRL+C to quit)\n",
      "127.0.0.1 - - [04/Mar/2023 20:55:45] \"GET / HTTP/1.1\" 200 -\n",
      "127.0.0.1 - - [04/Mar/2023 20:55:45] \"GET /_dash-layout HTTP/1.1\" 200 -\n",
      "127.0.0.1 - - [04/Mar/2023 20:55:45] \"GET /_dash-dependencies HTTP/1.1\" 200 -\n",
      "127.0.0.1 - - [04/Mar/2023 20:55:45] \"GET /_dash-component-suites/dash/dcc/async-graph.js HTTP/1.1\" 200 -\n",
      "127.0.0.1 - - [04/Mar/2023 20:55:45] \"GET /_dash-component-suites/dash/dcc/async-plotlyjs.js HTTP/1.1\" 200 -\n"
     ]
    }
   ],
   "source": [
    "app.layout = html.Div(children=[\n",
    "    \n",
    "    html.H1(children = 'State vs Profit', style = {'textAlign':'center', 'color':'blue', 'font-weight': 'bold'}),\n",
    "    html.Div('Bar Plot', style = {'textAlign':'center', 'color':'red'}),    \n",
    "    \n",
    "    dcc.Graph(\n",
    "        id='bar-plot',\n",
    "        figure={\n",
    "            'data': [\n",
    "                go.Bar(\n",
    "                    x=df_states['state'],\n",
    "                    y=df_states['mean']\n",
    "                )\n",
    "            ],\n",
    "            'layout': go.Layout(\n",
    "                title='state mean',\n",
    "                xaxis={'title': 'state'},\n",
    "                yaxis={'title': 'profit mean'}\n",
    "            )\n",
    "        }\n",
    "    ),\n",
    "    dcc.Graph(\n",
    "        id='bar-plot',\n",
    "        figure={\n",
    "            'data': [\n",
    "                go.Bar(\n",
    "                    x=df_states['state'],\n",
    "                    y=df_states['sum']\n",
    "                )\n",
    "            ],\n",
    "            'layout': go.Layout(\n",
    "                title='state sum',\n",
    "                xaxis={'title': 'state'},\n",
    "                yaxis={'title': 'profit sum'}\n",
    "            )\n",
    "        }\n",
    "    ),\n",
    "    dcc.Graph(\n",
    "        id='bar-plot',\n",
    "        figure={\n",
    "            'data': [\n",
    "                go.Bar(\n",
    "                    x=df_states['state'],\n",
    "                    y=df_states['count']\n",
    "                )\n",
    "            ],\n",
    "            'layout': go.Layout(\n",
    "                title='state count',\n",
    "                xaxis={'title': 'state'},\n",
    "                yaxis={'title': 'count'}\n",
    "            )\n",
    "        }\n",
    "    )\n",
    "])\n",
    "\n",
    "\n",
    "if __name__ == '__main__':\n",
    "    app.run_server(port = 4050)"
   ]
  },
  {
   "cell_type": "code",
   "execution_count": 18,
   "id": "6b5e9238",
   "metadata": {},
   "outputs": [
    {
     "data": {
      "text/html": [
       "<div>\n",
       "<style scoped>\n",
       "    .dataframe tbody tr th:only-of-type {\n",
       "        vertical-align: middle;\n",
       "    }\n",
       "\n",
       "    .dataframe tbody tr th {\n",
       "        vertical-align: top;\n",
       "    }\n",
       "\n",
       "    .dataframe thead th {\n",
       "        text-align: right;\n",
       "    }\n",
       "</style>\n",
       "<table border=\"1\" class=\"dataframe\">\n",
       "  <thead>\n",
       "    <tr style=\"text-align: right;\">\n",
       "      <th></th>\n",
       "      <th>state</th>\n",
       "      <th>mean</th>\n",
       "      <th>sum</th>\n",
       "      <th>count</th>\n",
       "    </tr>\n",
       "  </thead>\n",
       "  <tbody>\n",
       "    <tr>\n",
       "      <th>0</th>\n",
       "      <td>California</td>\n",
       "      <td>182540.929412</td>\n",
       "      <td>3103195.80</td>\n",
       "      <td>17</td>\n",
       "    </tr>\n",
       "    <tr>\n",
       "      <th>1</th>\n",
       "      <td>Florida</td>\n",
       "      <td>247323.551250</td>\n",
       "      <td>3957176.82</td>\n",
       "      <td>16</td>\n",
       "    </tr>\n",
       "    <tr>\n",
       "      <th>2</th>\n",
       "      <td>New York</td>\n",
       "      <td>205346.015882</td>\n",
       "      <td>3490882.27</td>\n",
       "      <td>17</td>\n",
       "    </tr>\n",
       "  </tbody>\n",
       "</table>\n",
       "</div>"
      ],
      "text/plain": [
       "        state           mean         sum  count\n",
       "0  California  182540.929412  3103195.80     17\n",
       "1     Florida  247323.551250  3957176.82     16\n",
       "2    New York  205346.015882  3490882.27     17"
      ]
     },
     "execution_count": 18,
     "metadata": {},
     "output_type": "execute_result"
    }
   ],
   "source": [
    "df_states = pd.DataFrame(df.groupby('state')['marketing'].agg(['mean', 'sum', 'count']))\n",
    "df_states.reset_index(inplace=True)\n",
    "df_states"
   ]
  },
  {
   "cell_type": "code",
   "execution_count": 19,
   "id": "9d5661d7",
   "metadata": {},
   "outputs": [
    {
     "name": "stdout",
     "output_type": "stream",
     "text": [
      "Dash is running on http://127.0.0.1:4050/\n",
      "\n",
      " * Serving Flask app \"__main__\" (lazy loading)\n",
      " * Environment: production\n",
      "\u001b[31m   WARNING: This is a development server. Do not use it in a production deployment.\u001b[0m\n",
      "\u001b[2m   Use a production WSGI server instead.\u001b[0m\n",
      " * Debug mode: off\n"
     ]
    },
    {
     "name": "stderr",
     "output_type": "stream",
     "text": [
      " * Running on http://127.0.0.1:4050/ (Press CTRL+C to quit)\n",
      "127.0.0.1 - - [04/Mar/2023 20:56:13] \"GET / HTTP/1.1\" 200 -\n",
      "127.0.0.1 - - [04/Mar/2023 20:56:14] \"GET /_dash-layout HTTP/1.1\" 200 -\n",
      "127.0.0.1 - - [04/Mar/2023 20:56:14] \"GET /_dash-dependencies HTTP/1.1\" 200 -\n",
      "127.0.0.1 - - [04/Mar/2023 20:56:14] \"GET /_dash-component-suites/dash/dcc/async-graph.js HTTP/1.1\" 200 -\n",
      "127.0.0.1 - - [04/Mar/2023 20:56:14] \"GET /_dash-component-suites/dash/dcc/async-plotlyjs.js HTTP/1.1\" 200 -\n"
     ]
    }
   ],
   "source": [
    "app.layout = html.Div(children=[\n",
    "    \n",
    "    html.H1(children = 'State vs Profit', style = {'textAlign':'center', 'color':'blue', 'font-weight': 'bold'}),\n",
    "    html.Div('Bar Plot', style = {'textAlign':'center', 'color':'red'}),    \n",
    "    \n",
    "    dcc.Graph(\n",
    "        id='bar-plot',\n",
    "        figure={\n",
    "            'data': [\n",
    "                go.Bar(\n",
    "                    x=df_states['state'],\n",
    "                    y=df_states['mean']\n",
    "                )\n",
    "            ],\n",
    "            'layout': go.Layout(\n",
    "                title='state mean',\n",
    "                xaxis={'title': 'state'},\n",
    "                yaxis={'title': 'profit mean'}\n",
    "            )\n",
    "        }\n",
    "    ),\n",
    "    dcc.Graph(\n",
    "        id='bar-plot',\n",
    "        figure={\n",
    "            'data': [\n",
    "                go.Bar(\n",
    "                    x=df_states['state'],\n",
    "                    y=df_states['sum']\n",
    "                )\n",
    "            ],\n",
    "            'layout': go.Layout(\n",
    "                title='state sum',\n",
    "                xaxis={'title': 'state'},\n",
    "                yaxis={'title': 'profit sum'}\n",
    "            )\n",
    "        }\n",
    "    ),\n",
    "    dcc.Graph(\n",
    "        id='bar-plot',\n",
    "        figure={\n",
    "            'data': [\n",
    "                go.Bar(\n",
    "                    x=df_states['state'],\n",
    "                    y=df_states['count']\n",
    "                )\n",
    "            ],\n",
    "            'layout': go.Layout(\n",
    "                title='state count',\n",
    "                xaxis={'title': 'state'},\n",
    "                yaxis={'title': 'count'}\n",
    "            )\n",
    "        }\n",
    "    )\n",
    "])\n",
    "\n",
    "\n",
    "if __name__ == '__main__':\n",
    "    app.run_server(port = 4050)"
   ]
  },
  {
   "cell_type": "code",
   "execution_count": null,
   "id": "35b04e0f",
   "metadata": {},
   "outputs": [],
   "source": []
  }
 ],
 "metadata": {
  "kernelspec": {
   "display_name": "Python 3 (ipykernel)",
   "language": "python",
   "name": "python3"
  },
  "language_info": {
   "codemirror_mode": {
    "name": "ipython",
    "version": 3
   },
   "file_extension": ".py",
   "mimetype": "text/x-python",
   "name": "python",
   "nbconvert_exporter": "python",
   "pygments_lexer": "ipython3",
   "version": "3.9.13"
  }
 },
 "nbformat": 4,
 "nbformat_minor": 5
}
