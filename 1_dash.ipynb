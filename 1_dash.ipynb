{
 "cells": [
  {
   "cell_type": "code",
   "execution_count": 1,
   "id": "fccf6f4c",
   "metadata": {},
   "outputs": [
    {
     "name": "stdout",
     "output_type": "stream",
     "text": [
      "Requirement already satisfied: dash in c:\\users\\leecc\\anaconda3\\lib\\site-packages (2.8.1)\n",
      "Requirement already satisfied: Flask>=1.0.4 in c:\\users\\leecc\\anaconda3\\lib\\site-packages (from dash) (1.1.2)\n",
      "Requirement already satisfied: dash-table==5.0.0 in c:\\users\\leecc\\anaconda3\\lib\\site-packages (from dash) (5.0.0)\n",
      "Requirement already satisfied: plotly>=5.0.0 in c:\\users\\leecc\\anaconda3\\lib\\site-packages (from dash) (5.9.0)\n",
      "Requirement already satisfied: dash-core-components==2.0.0 in c:\\users\\leecc\\anaconda3\\lib\\site-packages (from dash) (2.0.0)\n",
      "Requirement already satisfied: dash-html-components==2.0.0 in c:\\users\\leecc\\anaconda3\\lib\\site-packages (from dash) (2.0.0)\n",
      "Requirement already satisfied: click>=5.1 in c:\\users\\leecc\\anaconda3\\lib\\site-packages (from Flask>=1.0.4->dash) (8.0.4)\n",
      "Requirement already satisfied: itsdangerous>=0.24 in c:\\users\\leecc\\anaconda3\\lib\\site-packages (from Flask>=1.0.4->dash) (2.0.1)\n",
      "Requirement already satisfied: Werkzeug>=0.15 in c:\\users\\leecc\\anaconda3\\lib\\site-packages (from Flask>=1.0.4->dash) (2.0.3)\n",
      "Requirement already satisfied: Jinja2>=2.10.1 in c:\\users\\leecc\\anaconda3\\lib\\site-packages (from Flask>=1.0.4->dash) (2.11.3)\n",
      "Requirement already satisfied: tenacity>=6.2.0 in c:\\users\\leecc\\anaconda3\\lib\\site-packages (from plotly>=5.0.0->dash) (8.0.1)\n",
      "Requirement already satisfied: colorama in c:\\users\\leecc\\anaconda3\\lib\\site-packages (from click>=5.1->Flask>=1.0.4->dash) (0.4.5)\n",
      "Requirement already satisfied: MarkupSafe>=0.23 in c:\\users\\leecc\\anaconda3\\lib\\site-packages (from Jinja2>=2.10.1->Flask>=1.0.4->dash) (2.0.1)\n",
      "Requirement already satisfied: dash_core_components in c:\\users\\leecc\\anaconda3\\lib\\site-packages (2.0.0)\n",
      "Requirement already satisfied: dash_html_components in c:\\users\\leecc\\anaconda3\\lib\\site-packages (2.0.0)\n",
      "Requirement already satisfied: dash-renderer in c:\\users\\leecc\\anaconda3\\lib\\site-packages (1.9.1)\n"
     ]
    }
   ],
   "source": [
    "!pip install dash\n",
    "!pip install dash_core_components\n",
    "!pip install dash_html_components \n",
    "!pip install dash-renderer"
   ]
  },
  {
   "cell_type": "code",
   "execution_count": 1,
   "id": "6cecc5d8",
   "metadata": {},
   "outputs": [
    {
     "name": "stderr",
     "output_type": "stream",
     "text": [
      "C:\\Users\\leecc\\AppData\\Local\\Temp\\ipykernel_18068\\954449312.py:2: UserWarning: \n",
      "The dash_core_components package is deprecated. Please replace\n",
      "`import dash_core_components as dcc` with `from dash import dcc`\n",
      "  import dash_core_components as dcc\n",
      "C:\\Users\\leecc\\AppData\\Local\\Temp\\ipykernel_18068\\954449312.py:3: UserWarning: \n",
      "The dash_html_components package is deprecated. Please replace\n",
      "`import dash_html_components as html` with `from dash import html`\n",
      "  import dash_html_components as html\n"
     ]
    }
   ],
   "source": [
    "import dash\n",
    "import dash_core_components as dcc\n",
    "import dash_html_components as html"
   ]
  },
  {
   "cell_type": "code",
   "execution_count": 2,
   "id": "22abb7fa",
   "metadata": {},
   "outputs": [],
   "source": [
    "app = dash.Dash()"
   ]
  },
  {
   "cell_type": "code",
   "execution_count": 3,
   "id": "5e7fa7cf",
   "metadata": {},
   "outputs": [],
   "source": [
    "app.layout = html.Div([\n",
    "    html.H1('Hello Dash'),\n",
    "    html.Div('Dash - A Data Products'),\n",
    "    \n",
    "    dcc.Graph(\n",
    "        id = 'fintech_sample', \n",
    "        figure = {'data': [\n",
    "            {'x': [1,5,10], 'y': [10, 20, 30], 'type': 'bar', 'name': 'barchart'},\n",
    "            {'x': [1,5,10], 'y': [20, 50, 100], 'type': 'bar', 'name': 'barchart'}\n",
    "        ],\n",
    "        'layout': {'title':'BarChart'}}\n",
    "    )\n",
    "])"
   ]
  },
  {
   "cell_type": "code",
   "execution_count": 5,
   "id": "a870d084",
   "metadata": {
    "scrolled": true
   },
   "outputs": [
    {
     "name": "stdout",
     "output_type": "stream",
     "text": [
      "Dash is running on http://127.0.0.1:4050/\n",
      "\n",
      " * Serving Flask app \"__main__\" (lazy loading)\n",
      " * Environment: production\n",
      "\u001b[31m   WARNING: This is a development server. Do not use it in a production deployment.\u001b[0m\n",
      "\u001b[2m   Use a production WSGI server instead.\u001b[0m\n",
      " * Debug mode: off\n"
     ]
    },
    {
     "name": "stderr",
     "output_type": "stream",
     "text": [
      " * Running on http://127.0.0.1:4050/ (Press CTRL+C to quit)\n",
      "127.0.0.1 - - [28/Feb/2023 13:17:59] \"GET / HTTP/1.1\" 200 -\n",
      "127.0.0.1 - - [28/Feb/2023 13:17:59] \"GET /_dash-layout HTTP/1.1\" 200 -\n",
      "127.0.0.1 - - [28/Feb/2023 13:17:59] \"GET /_dash-dependencies HTTP/1.1\" 200 -\n",
      "127.0.0.1 - - [28/Feb/2023 13:18:00] \"GET /_dash-component-suites/dash/dcc/async-graph.js HTTP/1.1\" 200 -\n",
      "127.0.0.1 - - [28/Feb/2023 13:18:00] \"GET /_dash-component-suites/dash/dcc/async-plotlyjs.js HTTP/1.1\" 200 -\n"
     ]
    }
   ],
   "source": [
    "if __name__ == '__main__':\n",
    "    app.run_server(port = 4050)"
   ]
  },
  {
   "cell_type": "code",
   "execution_count": 6,
   "id": "20ac28da",
   "metadata": {},
   "outputs": [],
   "source": [
    "# help(html.Div)\n",
    "# help(dcc.Graph)\n",
    "# dcc. 후 tab 키를 누르면 dcc. 와 관련된 기능들을 보여줌 "
   ]
  },
  {
   "cell_type": "code",
   "execution_count": 10,
   "id": "5f9bb93c",
   "metadata": {},
   "outputs": [],
   "source": [
    "# 제목 가운데로 맞춘 후 color 바꾸고 bold체로 바꾸기\n",
    "app.layout = html.Div([\n",
    "    html.H1(children = 'Hello Dash', style = {'textAlign':'center', 'color':'blue', 'font-weight': 'bold'}),\n",
    "    html.Div('Dash - A Data Products', style = {'textAlign':'center', 'color':'red'}),\n",
    "    \n",
    "    dcc.Graph(\n",
    "        id = 'fintech_sample', \n",
    "        figure = {'data': [\n",
    "            {'x': [1,5,10], 'y': [10, 20, 30], 'type': 'bar', 'name': 'barchart'},\n",
    "            {'x': [1,5,10], 'y': [20, 50, 100], 'type': 'bar', 'name': 'barchart'}\n",
    "        ],\n",
    "        'layout': {'title':'BarChart'}}\n",
    "    )\n",
    "])"
   ]
  },
  {
   "cell_type": "code",
   "execution_count": 11,
   "id": "fa7e9fcd",
   "metadata": {},
   "outputs": [
    {
     "name": "stdout",
     "output_type": "stream",
     "text": [
      "Dash is running on http://127.0.0.1:4050/\n",
      "\n",
      " * Serving Flask app \"__main__\" (lazy loading)\n",
      " * Environment: production\n",
      "\u001b[31m   WARNING: This is a development server. Do not use it in a production deployment.\u001b[0m\n",
      "\u001b[2m   Use a production WSGI server instead.\u001b[0m\n",
      " * Debug mode: off\n"
     ]
    },
    {
     "name": "stderr",
     "output_type": "stream",
     "text": [
      " * Running on http://127.0.0.1:4050/ (Press CTRL+C to quit)\n",
      "127.0.0.1 - - [28/Feb/2023 13:20:55] \"GET / HTTP/1.1\" 200 -\n",
      "127.0.0.1 - - [28/Feb/2023 13:20:55] \"GET /_dash-layout HTTP/1.1\" 200 -\n",
      "127.0.0.1 - - [28/Feb/2023 13:20:55] \"GET /_dash-dependencies HTTP/1.1\" 200 -\n",
      "127.0.0.1 - - [28/Feb/2023 13:20:56] \"GET /_dash-component-suites/dash/dcc/async-graph.js HTTP/1.1\" 200 -\n",
      "127.0.0.1 - - [28/Feb/2023 13:20:56] \"GET /_dash-component-suites/dash/dcc/async-plotlyjs.js HTTP/1.1\" 200 -\n"
     ]
    }
   ],
   "source": [
    "if __name__ == '__main__':\n",
    "    app.run_server(port = 4050)"
   ]
  },
  {
   "cell_type": "code",
   "execution_count": 12,
   "id": "7694027e",
   "metadata": {},
   "outputs": [],
   "source": [
    "# plot 배경색 바꾸기 \n",
    "app.layout = html.Div([\n",
    "    html.H1(children = 'Hello Dash', style = {'textAlign':'center', 'color':'blue', 'font-weight': 'bold'}),\n",
    "    html.Div('Dash - A Data Products', style = {'textAlign':'center', 'color':'red'}),\n",
    "    \n",
    "    dcc.Graph(\n",
    "        id = 'fintech_sample', \n",
    "        figure = {'data': [\n",
    "            {'x': [1,5,10], 'y': [10, 20, 30], 'type': 'bar', 'name': 'barchart'},\n",
    "            {'x': [1,5,10], 'y': [20, 50, 100], 'type': 'bar', 'name': 'barchart'}\n",
    "        ],\n",
    "        'layout': {\n",
    "            'plot_bgcolor': '#ffcccb', #원하는 컬러 검색 (ex:light red to hexcode)\n",
    "            'title':'BarChart'}\n",
    "        }\n",
    "    )\n",
    "])\n"
   ]
  },
  {
   "cell_type": "code",
   "execution_count": 13,
   "id": "c220002e",
   "metadata": {
    "scrolled": true
   },
   "outputs": [
    {
     "name": "stdout",
     "output_type": "stream",
     "text": [
      "Dash is running on http://127.0.0.1:4050/\n",
      "\n",
      " * Serving Flask app \"__main__\" (lazy loading)\n",
      " * Environment: production\n",
      "\u001b[31m   WARNING: This is a development server. Do not use it in a production deployment.\u001b[0m\n",
      "\u001b[2m   Use a production WSGI server instead.\u001b[0m\n",
      " * Debug mode: off\n"
     ]
    },
    {
     "name": "stderr",
     "output_type": "stream",
     "text": [
      " * Running on http://127.0.0.1:4050/ (Press CTRL+C to quit)\n",
      "127.0.0.1 - - [28/Feb/2023 13:21:08] \"GET / HTTP/1.1\" 200 -\n",
      "127.0.0.1 - - [28/Feb/2023 13:21:08] \"GET /_dash-layout HTTP/1.1\" 200 -\n",
      "127.0.0.1 - - [28/Feb/2023 13:21:08] \"GET /_dash-dependencies HTTP/1.1\" 200 -\n",
      "127.0.0.1 - - [28/Feb/2023 13:21:08] \"GET /_dash-component-suites/dash/dcc/async-graph.js HTTP/1.1\" 200 -\n",
      "127.0.0.1 - - [28/Feb/2023 13:21:08] \"GET /_dash-component-suites/dash/dcc/async-plotlyjs.js HTTP/1.1\" 200 -\n"
     ]
    }
   ],
   "source": [
    "if __name__ == '__main__':\n",
    "    app.run_server(port = 4050)"
   ]
  },
  {
   "cell_type": "code",
   "execution_count": 15,
   "id": "444dcb64",
   "metadata": {},
   "outputs": [],
   "source": [
    "# page 배경색 바꾸기 \n",
    "app.layout = html.Div([\n",
    "    html.H1(children = 'Hello Dash', style = {'textAlign':'center', 'color':'blue', 'font-weight': 'bold'}),\n",
    "    html.Div('Dash - A Data Products', style = {'textAlign':'center', 'color':'red'}),\n",
    "    \n",
    "    dcc.Graph(\n",
    "        id = 'fintech_sample', \n",
    "        figure = {'data': [\n",
    "            {'x': [1,5,10], 'y': [10, 20, 30], 'type': 'bar', 'name': 'barchart'},\n",
    "            {'x': [1,5,10], 'y': [20, 50, 100], 'type': 'bar', 'name': 'barchart'}\n",
    "        ],\n",
    "        'layout': {\n",
    "            'plot_bgcolor': '#ffcccb', #원하는 컬러 검색 (ex:light red to hexcode)\n",
    "            'paper_bgcolor': '#000000',\n",
    "            'title':'BarChart'}\n",
    "        }\n",
    "    )\n",
    "])\n"
   ]
  },
  {
   "cell_type": "code",
   "execution_count": null,
   "id": "3eff617f",
   "metadata": {
    "scrolled": true
   },
   "outputs": [
    {
     "name": "stdout",
     "output_type": "stream",
     "text": [
      "Dash is running on http://127.0.0.1:4050/\n",
      "\n",
      " * Serving Flask app \"__main__\" (lazy loading)\n",
      " * Environment: production\n",
      "\u001b[31m   WARNING: This is a development server. Do not use it in a production deployment.\u001b[0m\n",
      "\u001b[2m   Use a production WSGI server instead.\u001b[0m\n",
      " * Debug mode: off\n"
     ]
    },
    {
     "name": "stderr",
     "output_type": "stream",
     "text": [
      " * Running on http://127.0.0.1:4050/ (Press CTRL+C to quit)\n",
      "127.0.0.1 - - [28/Feb/2023 13:23:49] \"GET / HTTP/1.1\" 200 -\n",
      "127.0.0.1 - - [28/Feb/2023 13:23:49] \"GET /_dash-layout HTTP/1.1\" 200 -\n",
      "127.0.0.1 - - [28/Feb/2023 13:23:49] \"GET /_dash-dependencies HTTP/1.1\" 200 -\n",
      "127.0.0.1 - - [28/Feb/2023 13:23:49] \"GET /_dash-component-suites/dash/dcc/async-graph.js HTTP/1.1\" 200 -\n",
      "127.0.0.1 - - [28/Feb/2023 13:23:49] \"GET /_dash-component-suites/dash/dcc/async-plotlyjs.js HTTP/1.1\" 200 -\n"
     ]
    }
   ],
   "source": [
    "if __name__ == '__main__':\n",
    "    app.run_server(port = 4050)"
   ]
  },
  {
   "cell_type": "code",
   "execution_count": null,
   "id": "7e26cf0b",
   "metadata": {},
   "outputs": [],
   "source": []
  }
 ],
 "metadata": {
  "kernelspec": {
   "display_name": "Python 3 (ipykernel)",
   "language": "python",
   "name": "python3"
  },
  "language_info": {
   "codemirror_mode": {
    "name": "ipython",
    "version": 3
   },
   "file_extension": ".py",
   "mimetype": "text/x-python",
   "name": "python",
   "nbconvert_exporter": "python",
   "pygments_lexer": "ipython3",
   "version": "3.9.13"
  }
 },
 "nbformat": 4,
 "nbformat_minor": 5
}
