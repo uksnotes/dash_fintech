{
 "cells": [
  {
   "cell_type": "code",
   "execution_count": 1,
   "id": "73426305",
   "metadata": {
    "scrolled": true
   },
   "outputs": [
    {
     "name": "stderr",
     "output_type": "stream",
     "text": [
      "C:\\Users\\leecc\\AppData\\Local\\Temp\\ipykernel_18424\\693147478.py:3: UserWarning: \n",
      "The dash_core_components package is deprecated. Please replace\n",
      "`import dash_core_components as dcc` with `from dash import dcc`\n",
      "  import dash_core_components as dcc\n",
      "C:\\Users\\leecc\\AppData\\Local\\Temp\\ipykernel_18424\\693147478.py:4: UserWarning: \n",
      "The dash_html_components package is deprecated. Please replace\n",
      "`import dash_html_components as html` with `from dash import html`\n",
      "  import dash_html_components as html\n"
     ]
    }
   ],
   "source": [
    "import pandas as pd\n",
    "import dash\n",
    "import dash_core_components as dcc\n",
    "import dash_html_components as html\n",
    "import plotly.graph_objs as go\n",
    "import plotly.express as px"
   ]
  },
  {
   "cell_type": "code",
   "execution_count": 2,
   "id": "c8af1d99",
   "metadata": {},
   "outputs": [],
   "source": [
    "app = dash.Dash()"
   ]
  },
  {
   "cell_type": "code",
   "execution_count": 3,
   "id": "858801d0",
   "metadata": {},
   "outputs": [
    {
     "name": "stdout",
     "output_type": "stream",
     "text": [
      "Dash is running on http://127.0.0.1:4050/\n",
      "\n",
      " * Serving Flask app \"__main__\" (lazy loading)\n",
      " * Environment: production\n",
      "\u001b[31m   WARNING: This is a development server. Do not use it in a production deployment.\u001b[0m\n",
      "\u001b[2m   Use a production WSGI server instead.\u001b[0m\n",
      " * Debug mode: off\n"
     ]
    },
    {
     "name": "stderr",
     "output_type": "stream",
     "text": [
      " * Running on http://127.0.0.1:4050/ (Press CTRL+C to quit)\n",
      "127.0.0.1 - - [04/Mar/2023 20:44:23] \"GET / HTTP/1.1\" 200 -\n",
      "127.0.0.1 - - [04/Mar/2023 20:44:24] \"GET /_dash-layout HTTP/1.1\" 200 -\n",
      "127.0.0.1 - - [04/Mar/2023 20:44:24] \"GET /_dash-dependencies HTTP/1.1\" 200 -\n"
     ]
    }
   ],
   "source": [
    "# H1 heading P paragraph 의미\n",
    "app.layout = html.Div([\n",
    "    html.H1('Hello Dash'),\n",
    "    html.Div([\n",
    "        html.P('Dash converts Python classes into HTML'),\n",
    "        html.P(\"This conversion happens behind the scenes by Dash's JavaScript front-end\")\n",
    "    ])\n",
    "])\n",
    "if __name__ == '__main__':\n",
    "    app.run_server(port = 4050)"
   ]
  },
  {
   "cell_type": "code",
   "execution_count": 4,
   "id": "2fc39a6a",
   "metadata": {},
   "outputs": [
    {
     "name": "stdout",
     "output_type": "stream",
     "text": [
      "Dash is running on http://127.0.0.1:4050/\n",
      "\n",
      " * Serving Flask app \"__main__\" (lazy loading)\n",
      " * Environment: production\n",
      "\u001b[31m   WARNING: This is a development server. Do not use it in a production deployment.\u001b[0m\n",
      "\u001b[2m   Use a production WSGI server instead.\u001b[0m\n",
      " * Debug mode: off\n"
     ]
    },
    {
     "name": "stderr",
     "output_type": "stream",
     "text": [
      " * Running on http://127.0.0.1:4050/ (Press CTRL+C to quit)\n",
      "127.0.0.1 - - [04/Mar/2023 20:45:05] \"GET / HTTP/1.1\" 200 -\n",
      "127.0.0.1 - - [04/Mar/2023 20:45:05] \"GET /_dash-layout HTTP/1.1\" 200 -\n",
      "127.0.0.1 - - [04/Mar/2023 20:45:05] \"GET /_dash-dependencies HTTP/1.1\" 200 -\n"
     ]
    }
   ],
   "source": [
    "app.layout = html.Div([\n",
    "    html.H1('Hello Dash'),\n",
    "    html.Div([\n",
    "        html.P('Dash converts Python classes into HTML'),\n",
    "        html.P(\"This conversion happens behind the scenes by Dash's JavaScript front-end\")\n",
    "    ]),\n",
    "    html.Label('Email Address:')\n",
    "\n",
    "])\n",
    "if __name__ == '__main__':\n",
    "    app.run_server(port = 4050)"
   ]
  },
  {
   "cell_type": "code",
   "execution_count": 5,
   "id": "ffcb95ed",
   "metadata": {},
   "outputs": [
    {
     "name": "stdout",
     "output_type": "stream",
     "text": [
      "Dash is running on http://127.0.0.1:4050/\n",
      "\n",
      " * Serving Flask app \"__main__\" (lazy loading)\n",
      " * Environment: production\n",
      "\u001b[31m   WARNING: This is a development server. Do not use it in a production deployment.\u001b[0m\n",
      "\u001b[2m   Use a production WSGI server instead.\u001b[0m\n",
      " * Debug mode: off\n"
     ]
    },
    {
     "name": "stderr",
     "output_type": "stream",
     "text": [
      " * Running on http://127.0.0.1:4050/ (Press CTRL+C to quit)\n",
      "127.0.0.1 - - [04/Mar/2023 20:45:19] \"GET / HTTP/1.1\" 200 -\n",
      "127.0.0.1 - - [04/Mar/2023 20:45:19] \"GET /_dash-layout HTTP/1.1\" 200 -\n",
      "127.0.0.1 - - [04/Mar/2023 20:45:19] \"GET /_dash-dependencies HTTP/1.1\" 200 -\n"
     ]
    }
   ],
   "source": [
    "app.layout = html.Div([\n",
    "    html.H1('Hello Dash'),\n",
    "    html.Div([\n",
    "        html.P('Dash converts Python classes into HTML'),\n",
    "        html.P(\"This conversion happens behind the scenes by Dash's JavaScript front-end\")\n",
    "    ]),\n",
    "    html.Label('Email Address:'),\n",
    "    html.Br(),\n",
    "    html.Br(),\n",
    "    html.Label('Name:')\n",
    "\n",
    "\n",
    "])\n",
    "if __name__ == '__main__':\n",
    "    app.run_server(port = 4050)"
   ]
  },
  {
   "cell_type": "code",
   "execution_count": 6,
   "id": "7a3602bb",
   "metadata": {},
   "outputs": [
    {
     "name": "stdout",
     "output_type": "stream",
     "text": [
      "Dash is running on http://127.0.0.1:4050/\n",
      "\n",
      " * Serving Flask app \"__main__\" (lazy loading)\n",
      " * Environment: production\n",
      "\u001b[31m   WARNING: This is a development server. Do not use it in a production deployment.\u001b[0m\n",
      "\u001b[2m   Use a production WSGI server instead.\u001b[0m\n",
      " * Debug mode: off\n"
     ]
    },
    {
     "name": "stderr",
     "output_type": "stream",
     "text": [
      " * Running on http://127.0.0.1:4050/ (Press CTRL+C to quit)\n",
      "127.0.0.1 - - [04/Mar/2023 20:45:29] \"GET / HTTP/1.1\" 200 -\n",
      "127.0.0.1 - - [04/Mar/2023 20:45:29] \"GET /_dash-layout HTTP/1.1\" 200 -\n",
      "127.0.0.1 - - [04/Mar/2023 20:45:29] \"GET /_dash-dependencies HTTP/1.1\" 200 -\n",
      "127.0.0.1 - - [04/Mar/2023 20:46:26] \"GET / HTTP/1.1\" 200 -\n",
      "127.0.0.1 - - [04/Mar/2023 20:46:26] \"GET /_dash-layout HTTP/1.1\" 200 -\n",
      "127.0.0.1 - - [04/Mar/2023 20:46:26] \"GET /_dash-dependencies HTTP/1.1\" 200 -\n",
      "127.0.0.1 - - [04/Mar/2023 20:46:31] \"GET / HTTP/1.1\" 200 -\n",
      "127.0.0.1 - - [04/Mar/2023 20:46:31] \"GET /_dash-layout HTTP/1.1\" 200 -\n",
      "127.0.0.1 - - [04/Mar/2023 20:46:31] \"GET /_dash-dependencies HTTP/1.1\" 200 -\n"
     ]
    }
   ],
   "source": [
    "app.layout = html.Div([\n",
    "    html.H1('Hello Dash'),\n",
    "    html.Div([\n",
    "        html.P('Dash converts Python classes into HTML'),\n",
    "        html.P(\"This conversion happens behind the scenes by Dash's JavaScript front-end\")\n",
    "    ]),\n",
    "    html.Label('Email Address:'),\n",
    "    html.Br(),\n",
    "    html.Br(),\n",
    "    html.Label('Name:'),\n",
    "    html.Button('End')\n",
    "\n",
    "\n",
    "])\n",
    "if __name__ == '__main__':\n",
    "    app.run_server(port = 4050)"
   ]
  },
  {
   "cell_type": "code",
   "execution_count": null,
   "id": "c81d4db0",
   "metadata": {},
   "outputs": [],
   "source": []
  }
 ],
 "metadata": {
  "kernelspec": {
   "display_name": "Python 3 (ipykernel)",
   "language": "python",
   "name": "python3"
  },
  "language_info": {
   "codemirror_mode": {
    "name": "ipython",
    "version": 3
   },
   "file_extension": ".py",
   "mimetype": "text/x-python",
   "name": "python",
   "nbconvert_exporter": "python",
   "pygments_lexer": "ipython3",
   "version": "3.9.13"
  }
 },
 "nbformat": 4,
 "nbformat_minor": 5
}
