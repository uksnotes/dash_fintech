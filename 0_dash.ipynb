{
 "cells": [
  {
   "cell_type": "code",
   "execution_count": null,
   "id": "2f8084a0",
   "metadata": {},
   "outputs": [],
   "source": [
    "!pip install dash "
   ]
  },
  {
   "cell_type": "code",
   "execution_count": 1,
   "id": "03236c26",
   "metadata": {},
   "outputs": [
    {
     "name": "stderr",
     "output_type": "stream",
     "text": [
      "C:\\Users\\leecc\\AppData\\Local\\Temp\\ipykernel_13688\\693147478.py:3: UserWarning: \n",
      "The dash_core_components package is deprecated. Please replace\n",
      "`import dash_core_components as dcc` with `from dash import dcc`\n",
      "  import dash_core_components as dcc\n",
      "C:\\Users\\leecc\\AppData\\Local\\Temp\\ipykernel_13688\\693147478.py:4: UserWarning: \n",
      "The dash_html_components package is deprecated. Please replace\n",
      "`import dash_html_components as html` with `from dash import html`\n",
      "  import dash_html_components as html\n"
     ]
    }
   ],
   "source": [
    "import pandas as pd\n",
    "import dash\n",
    "import dash_core_components as dcc\n",
    "import dash_html_components as html\n",
    "import plotly.graph_objs as go\n",
    "import plotly.express as px"
   ]
  },
  {
   "cell_type": "code",
   "execution_count": 2,
   "id": "4d7d9977",
   "metadata": {},
   "outputs": [],
   "source": [
    "#이상형 찾기 앱 구현 \n",
    "app = dash.Dash()"
   ]
  },
  {
   "cell_type": "code",
   "execution_count": 3,
   "id": "7ea40e17",
   "metadata": {
    "scrolled": true
   },
   "outputs": [
    {
     "name": "stdout",
     "output_type": "stream",
     "text": [
      "Dash is running on http://127.0.0.1:4050/\n",
      "\n",
      " * Serving Flask app \"__main__\" (lazy loading)\n",
      " * Environment: production\n",
      "\u001b[31m   WARNING: This is a development server. Do not use it in a production deployment.\u001b[0m\n",
      "\u001b[2m   Use a production WSGI server instead.\u001b[0m\n",
      " * Debug mode: off\n"
     ]
    },
    {
     "name": "stderr",
     "output_type": "stream",
     "text": [
      " * Running on http://127.0.0.1:4050/ (Press CTRL+C to quit)\n",
      "127.0.0.1 - - [04/Mar/2023 20:47:03] \"GET / HTTP/1.1\" 200 -\n",
      "127.0.0.1 - - [04/Mar/2023 20:47:03] \"GET /_dash-layout HTTP/1.1\" 200 -\n",
      "127.0.0.1 - - [04/Mar/2023 20:47:03] \"GET /_dash-dependencies HTTP/1.1\" 200 -\n",
      "127.0.0.1 - - [04/Mar/2023 20:47:03] \"GET /_dash-component-suites/dash/dcc/async-dropdown.js HTTP/1.1\" 200 -\n",
      "127.0.0.1 - - [04/Mar/2023 20:47:37] \"GET / HTTP/1.1\" 200 -\n",
      "127.0.0.1 - - [04/Mar/2023 20:47:37] \"GET /_dash-layout HTTP/1.1\" 200 -\n",
      "127.0.0.1 - - [04/Mar/2023 20:47:37] \"GET /_dash-dependencies HTTP/1.1\" 200 -\n",
      "127.0.0.1 - - [04/Mar/2023 20:47:37] \"GET /_dash-component-suites/dash/dcc/async-dropdown.js HTTP/1.1\" 200 -\n",
      "127.0.0.1 - - [04/Mar/2023 20:47:37] \"GET /_favicon.ico?v=2.8.1 HTTP/1.1\" 200 -\n"
     ]
    }
   ],
   "source": [
    "#Dropdwon 추가\n",
    "app.layout = html.Div([\n",
    "    html.Label('원하는 연락 빈도는:'),\n",
    "    dcc.Dropdown(\n",
    "        id = 'dropdown',\n",
    "        options = [\n",
    "            {'label': '30분에 1번', 'value': '30분에 1번'},\n",
    "            {'label': '1시간에 1번', 'value': '1시간에 1번'},\n",
    "            {'label': '아침, 점심, 저녁 한번씩', 'value': '아침, 점심, 저녁 한번씩'}\n",
    "        ],\n",
    "        value = '30분에 1번' # default로 Sang 고정\n",
    "    ) \n",
    "])\n",
    "if __name__ == '__main__':\n",
    "    app.run_server(port = 4050)"
   ]
  },
  {
   "cell_type": "code",
   "execution_count": 5,
   "id": "17cb038a",
   "metadata": {},
   "outputs": [
    {
     "name": "stdout",
     "output_type": "stream",
     "text": [
      "Dash is running on http://127.0.0.1:4050/\n",
      "\n",
      " * Serving Flask app \"__main__\" (lazy loading)\n",
      " * Environment: production\n",
      "\u001b[31m   WARNING: This is a development server. Do not use it in a production deployment.\u001b[0m\n",
      "\u001b[2m   Use a production WSGI server instead.\u001b[0m\n",
      " * Debug mode: off\n"
     ]
    },
    {
     "name": "stderr",
     "output_type": "stream",
     "text": [
      " * Running on http://127.0.0.1:4050/ (Press CTRL+C to quit)\n"
     ]
    }
   ],
   "source": [
    "#Slider 추가\n",
    "app.layout = html.Div([\n",
    "    html.Label('원하는 연락 빈도는:'),\n",
    "    dcc.Dropdown(\n",
    "        id = 'dropdown',\n",
    "        options = [\n",
    "            {'label': '30분에 1번', 'value': '30분에 1번'},\n",
    "            {'label': '1시간에 1번', 'value': '1시간에 1번'},\n",
    "            {'label': '아침, 점심, 저녁 한번씩', 'value': '아침, 점심, 저녁 한번씩'}\n",
    "        ],\n",
    "        value = '30분에 1번' # default로 Sang 고정\n",
    "    ),\n",
    "    html.Label('만나고 싶은 이성의 거리: (km단위)'),\n",
    "    dcc.Slider(\n",
    "        min = 10, \n",
    "        max = 100,\n",
    "        value = 1,\n",
    "    )\n",
    "    \n",
    "])\n",
    "if __name__ == '__main__':\n",
    "    app.run_server(port = 4050)"
   ]
  },
  {
   "cell_type": "code",
   "execution_count": 4,
   "id": "7323d56f",
   "metadata": {
    "scrolled": true
   },
   "outputs": [
    {
     "name": "stdout",
     "output_type": "stream",
     "text": [
      "Dash is running on http://127.0.0.1:4050/\n",
      "\n",
      " * Serving Flask app \"__main__\" (lazy loading)\n",
      " * Environment: production\n",
      "\u001b[31m   WARNING: This is a development server. Do not use it in a production deployment.\u001b[0m\n",
      "\u001b[2m   Use a production WSGI server instead.\u001b[0m\n",
      " * Debug mode: off\n"
     ]
    },
    {
     "name": "stderr",
     "output_type": "stream",
     "text": [
      " * Running on http://127.0.0.1:4050/ (Press CTRL+C to quit)\n",
      "127.0.0.1 - - [04/Mar/2023 20:47:57] \"GET / HTTP/1.1\" 200 -\n",
      "127.0.0.1 - - [04/Mar/2023 20:47:57] \"GET /_dash-layout HTTP/1.1\" 200 -\n",
      "127.0.0.1 - - [04/Mar/2023 20:47:57] \"GET /_dash-dependencies HTTP/1.1\" 200 -\n",
      "127.0.0.1 - - [04/Mar/2023 20:47:57] \"GET /_dash-component-suites/dash/dcc/async-dropdown.js HTTP/1.1\" 200 -\n",
      "127.0.0.1 - - [04/Mar/2023 20:47:57] \"GET /_dash-component-suites/dash/dcc/async-slider.js HTTP/1.1\" 200 -\n"
     ]
    }
   ],
   "source": [
    "#text input \n",
    "app.layout = html.Div([\n",
    "    html.Label('원하는 연락 빈도는:'),\n",
    "    dcc.Dropdown(\n",
    "        id = 'dropdown',\n",
    "        options = [\n",
    "            {'label': '30분에 1번', 'value': '30분에 1번'},\n",
    "            {'label': '1시간에 1번', 'value': '1시간에 1번'},\n",
    "            {'label': '아침, 점심, 저녁 한번씩', 'value': '아침, 점심, 저녁 한번씩'}\n",
    "        ],\n",
    "        value = '30분에 1번' # default로 Sang 고정\n",
    "    ),\n",
    "    html.Br(),\n",
    "    html.Br(),\n",
    "    html.Label('만나고 싶은 이성의 거리: (km단위)'),\n",
    "    dcc.Slider(\n",
    "        min = 10, \n",
    "        max = 100,\n",
    "        value = 1,\n",
    "    ),\n",
    "    html.Br(),\n",
    "    html.Br(),\n",
    "    html.Label('Email Address:'),\n",
    "    dcc.Input(\n",
    "        placeholder= 'Input email address',\n",
    "        type = 'text',\n",
    "        value = '',\n",
    "    )\n",
    "    \n",
    "])\n",
    "if __name__ == '__main__':\n",
    "    app.run_server(port = 4050)"
   ]
  },
  {
   "cell_type": "code",
   "execution_count": 6,
   "id": "8f49d2c6",
   "metadata": {
    "scrolled": false
   },
   "outputs": [
    {
     "name": "stdout",
     "output_type": "stream",
     "text": [
      "Dash is running on http://127.0.0.1:4050/\n",
      "\n",
      " * Serving Flask app \"__main__\" (lazy loading)\n",
      " * Environment: production\n",
      "\u001b[31m   WARNING: This is a development server. Do not use it in a production deployment.\u001b[0m\n",
      "\u001b[2m   Use a production WSGI server instead.\u001b[0m\n",
      " * Debug mode: off\n"
     ]
    },
    {
     "name": "stderr",
     "output_type": "stream",
     "text": [
      " * Running on http://127.0.0.1:4050/ (Press CTRL+C to quit)\n",
      "127.0.0.1 - - [04/Mar/2023 20:48:08] \"GET / HTTP/1.1\" 200 -\n",
      "127.0.0.1 - - [04/Mar/2023 20:48:08] \"GET /_dash-layout HTTP/1.1\" 200 -\n",
      "127.0.0.1 - - [04/Mar/2023 20:48:08] \"GET /_dash-dependencies HTTP/1.1\" 200 -\n",
      "127.0.0.1 - - [04/Mar/2023 20:48:08] \"GET /_dash-component-suites/dash/dcc/async-dropdown.js HTTP/1.1\" 200 -\n",
      "127.0.0.1 - - [04/Mar/2023 20:48:08] \"GET /_dash-component-suites/dash/dcc/async-slider.js HTTP/1.1\" 200 -\n"
     ]
    }
   ],
   "source": [
    "#Textarea  \n",
    "app.layout = html.Div([\n",
    "    html.Label('원하는 연락 빈도는:'),\n",
    "    dcc.Dropdown(\n",
    "        id = 'dropdown',\n",
    "        options = [\n",
    "            {'label': '30분에 1번', 'value': '30분에 1번'},\n",
    "            {'label': '1시간에 1번', 'value': '1시간에 1번'},\n",
    "            {'label': '아침, 점심, 저녁 한번씩', 'value': '아침, 점심, 저녁 한번씩'}\n",
    "        ],\n",
    "        value = '30분에 1번' # default로 Sang 고정\n",
    "    ),\n",
    "    html.Br(),\n",
    "    html.Br(),\n",
    "    html.Label('만나고 싶은 이성의 거리: (km단위)'),\n",
    "    dcc.Slider(\n",
    "        min = 10, \n",
    "        max = 100,\n",
    "        value = 1,\n",
    "    ),\n",
    "    html.Br(),\n",
    "    html.Br(),\n",
    "    html.Label('Email Address:'),\n",
    "    dcc.Input(\n",
    "        placeholder= 'Input email address',\n",
    "        type = 'text',\n",
    "        value = '',\n",
    "    ),\n",
    "    html.Br(),\n",
    "    html.Br(),\n",
    "\n",
    "    html.Label('본인 소개글:'),\n",
    "    html.Br(),\n",
    "    html.Br(),\n",
    "\n",
    "    dcc.Textarea(\n",
    "        placeholder= 'Comments',\n",
    "        style = {'width': '70%'}\n",
    "    )\n",
    "\n",
    "    \n",
    "])\n",
    "if __name__ == '__main__':\n",
    "    app.run_server(port = 4050)"
   ]
  },
  {
   "cell_type": "code",
   "execution_count": 7,
   "id": "ec819f3b",
   "metadata": {},
   "outputs": [
    {
     "name": "stdout",
     "output_type": "stream",
     "text": [
      "Dash is running on http://127.0.0.1:4050/\n",
      "\n",
      " * Serving Flask app \"__main__\" (lazy loading)\n",
      " * Environment: production\n",
      "\u001b[31m   WARNING: This is a development server. Do not use it in a production deployment.\u001b[0m\n",
      "\u001b[2m   Use a production WSGI server instead.\u001b[0m\n",
      " * Debug mode: off\n"
     ]
    },
    {
     "name": "stderr",
     "output_type": "stream",
     "text": [
      " * Running on http://127.0.0.1:4050/ (Press CTRL+C to quit)\n",
      "127.0.0.1 - - [04/Mar/2023 20:48:27] \"GET / HTTP/1.1\" 200 -\n",
      "127.0.0.1 - - [04/Mar/2023 20:48:27] \"GET /_dash-layout HTTP/1.1\" 200 -\n",
      "127.0.0.1 - - [04/Mar/2023 20:48:27] \"GET /_dash-dependencies HTTP/1.1\" 200 -\n",
      "127.0.0.1 - - [04/Mar/2023 20:48:27] \"GET /_dash-component-suites/dash/dcc/async-dropdown.js HTTP/1.1\" 200 -\n",
      "127.0.0.1 - - [04/Mar/2023 20:48:27] \"GET /_dash-component-suites/dash/dcc/async-slider.js HTTP/1.1\" 200 -\n"
     ]
    }
   ],
   "source": [
    "#Checklist  \n",
    "app.layout = html.Div([\n",
    "    html.Label('원하는 연락 빈도는:'),\n",
    "    dcc.Dropdown(\n",
    "        id = 'dropdown',\n",
    "        options = [\n",
    "            {'label': '30분에 1번', 'value': '30분에 1번'},\n",
    "            {'label': '1시간에 1번', 'value': '1시간에 1번'},\n",
    "            {'label': '아침, 점심, 저녁 한번씩', 'value': '아침, 점심, 저녁 한번씩'}\n",
    "        ],\n",
    "        value = '30분에 1번' # default로 Sang 고정\n",
    "    ),\n",
    "    html.Br(),\n",
    "    html.Br(),\n",
    "    html.Label('만나고 싶은 이성의 거리: (km단위)'),\n",
    "    dcc.Slider(\n",
    "        min = 10, \n",
    "        max = 100,\n",
    "        value = 1,\n",
    "    ),\n",
    "    html.Br(),\n",
    "    html.Br(),\n",
    "    html.Label('Email Address:'),\n",
    "    dcc.Input(\n",
    "        placeholder= 'Input email address',\n",
    "        type = 'text',\n",
    "        value = '',\n",
    "    ),\n",
    "    html.Br(),\n",
    "    html.Br(),\n",
    "\n",
    "    html.Label('본인 소개글:'),\n",
    "    html.Br(),\n",
    "    html.Br(),\n",
    "\n",
    "    dcc.Textarea(\n",
    "        placeholder= 'Comments',\n",
    "        style = {'width': '70%'}\n",
    "    ),\n",
    "    html.Br(),\n",
    "    html.Br(),\n",
    "    \n",
    "    html.Label('본인의 MBTI 입력해주세요:'),\n",
    "    \n",
    "    html.Br(),\n",
    "    html.Br(),\n",
    "\n",
    "\n",
    "    dcc.Checklist(\n",
    "        options = [\n",
    "            {'label': 'ENFP', 'value': 'ENFP'},\n",
    "            {'label': 'INTJ', 'value': 'INTJ'},\n",
    "            {'label': 'ESTP', 'value': 'ESTP'},\n",
    "            {'label': 'INFP', 'value': 'INFP'},\n",
    "        ],\n",
    ")\n",
    "\n",
    "])\n",
    "if __name__ == '__main__':\n",
    "    app.run_server(port = 4050)"
   ]
  },
  {
   "cell_type": "code",
   "execution_count": 8,
   "id": "d2386b5c",
   "metadata": {
    "scrolled": true
   },
   "outputs": [
    {
     "name": "stdout",
     "output_type": "stream",
     "text": [
      "Dash is running on http://127.0.0.1:4050/\n",
      "\n",
      " * Serving Flask app \"__main__\" (lazy loading)\n",
      " * Environment: production\n",
      "\u001b[31m   WARNING: This is a development server. Do not use it in a production deployment.\u001b[0m\n",
      "\u001b[2m   Use a production WSGI server instead.\u001b[0m\n",
      " * Debug mode: off\n"
     ]
    },
    {
     "name": "stderr",
     "output_type": "stream",
     "text": [
      " * Running on http://127.0.0.1:4050/ (Press CTRL+C to quit)\n",
      "127.0.0.1 - - [04/Mar/2023 20:48:38] \"GET / HTTP/1.1\" 200 -\n",
      "127.0.0.1 - - [04/Mar/2023 20:48:38] \"GET /_dash-layout HTTP/1.1\" 200 -\n",
      "127.0.0.1 - - [04/Mar/2023 20:48:38] \"GET /_dash-dependencies HTTP/1.1\" 200 -\n",
      "127.0.0.1 - - [04/Mar/2023 20:48:39] \"GET /_dash-component-suites/dash/dcc/async-dropdown.js HTTP/1.1\" 200 -\n",
      "127.0.0.1 - - [04/Mar/2023 20:48:39] \"GET /_dash-component-suites/dash/dcc/async-slider.js HTTP/1.1\" 200 -\n"
     ]
    }
   ],
   "source": [
    "#button  \n",
    "app.layout = html.Div([\n",
    "    html.Label('원하는 연락 빈도는:'),\n",
    "    dcc.Dropdown(\n",
    "        id = 'dropdown',\n",
    "        options = [\n",
    "            {'label': '30분에 1번', 'value': '30분에 1번'},\n",
    "            {'label': '1시간에 1번', 'value': '1시간에 1번'},\n",
    "            {'label': '아침, 점심, 저녁 한번씩', 'value': '아침, 점심, 저녁 한번씩'}\n",
    "        ],\n",
    "        value = '30분에 1번' # default로 Sang 고정\n",
    "    ),\n",
    "    html.Br(),\n",
    "    html.Br(),\n",
    "    html.Label('만나고 싶은 이성의 거리: (km단위)'),\n",
    "    dcc.Slider(\n",
    "        min = 10, \n",
    "        max = 100,\n",
    "        value = 1,\n",
    "    ),\n",
    "    html.Br(),\n",
    "    html.Br(),\n",
    "    html.Label('Email Address:'),\n",
    "    dcc.Input(\n",
    "        placeholder= 'Input email address',\n",
    "        type = 'text',\n",
    "        value = '',\n",
    "    ),\n",
    "    html.Br(),\n",
    "    html.Br(),\n",
    "\n",
    "    html.Label('본인 소개글:'),\n",
    "    html.Br(),\n",
    "    html.Br(),\n",
    "\n",
    "    dcc.Textarea(\n",
    "        placeholder= 'Comments',\n",
    "        style = {'width': '70%'}\n",
    "    ),\n",
    "    html.Br(),\n",
    "    html.Br(),\n",
    "    \n",
    "    html.Label('본인의 MBTI 입력해주세요:'),\n",
    "    \n",
    "    html.Br(),\n",
    "    html.Br(),\n",
    "\n",
    "\n",
    "    dcc.Checklist(\n",
    "        options = [\n",
    "            {'label': 'ENFP', 'value': 'ENFP'},\n",
    "            {'label': 'INTJ', 'value': 'INTJ'},\n",
    "            {'label': 'ESTP', 'value': 'ESTP'},\n",
    "            {'label': 'INFP', 'value': 'INFP'},\n",
    "        ]),\n",
    "    html.Br(),\n",
    "    html.Button('제출')\n",
    "\n",
    "\n",
    "])\n",
    "if __name__ == '__main__':\n",
    "    app.run_server(port = 4050)"
   ]
  },
  {
   "cell_type": "code",
   "execution_count": 9,
   "id": "9b50fc29",
   "metadata": {
    "scrolled": true
   },
   "outputs": [
    {
     "name": "stdout",
     "output_type": "stream",
     "text": [
      "Dash is running on http://127.0.0.1:4050/\n",
      "\n",
      " * Serving Flask app \"__main__\" (lazy loading)\n",
      " * Environment: production\n",
      "\u001b[31m   WARNING: This is a development server. Do not use it in a production deployment.\u001b[0m\n",
      "\u001b[2m   Use a production WSGI server instead.\u001b[0m\n",
      " * Debug mode: off\n"
     ]
    },
    {
     "name": "stderr",
     "output_type": "stream",
     "text": [
      " * Running on http://127.0.0.1:4050/ (Press CTRL+C to quit)\n",
      "127.0.0.1 - - [04/Mar/2023 20:48:53] \"GET / HTTP/1.1\" 200 -\n",
      "127.0.0.1 - - [04/Mar/2023 20:48:53] \"GET /_dash-layout HTTP/1.1\" 200 -\n",
      "127.0.0.1 - - [04/Mar/2023 20:48:53] \"GET /_dash-dependencies HTTP/1.1\" 200 -\n",
      "127.0.0.1 - - [04/Mar/2023 20:48:53] \"GET /_dash-component-suites/dash/dcc/async-dropdown.js HTTP/1.1\" 200 -\n",
      "127.0.0.1 - - [04/Mar/2023 20:48:53] \"GET /_dash-component-suites/dash/dcc/async-slider.js HTTP/1.1\" 200 -\n"
     ]
    }
   ],
   "source": [
    "# 제목 추가\n",
    "app.layout = html.Div([\n",
    "\n",
    "    html.H1(children = '나의 짝은 어디에', style = {'textAlign':'center', 'color':'blue', 'font-weight': 'bold'}),\n",
    "    html.Div('Dash Plotly 연습', style = {'textAlign':'center', 'color':'red'}),\n",
    "\n",
    "    html.Label('원하는 연락 빈도는:'),\n",
    "    dcc.Dropdown(\n",
    "        id = 'dropdown',\n",
    "        options = [\n",
    "            {'label': '30분에 1번', 'value': '30분에 1번'},\n",
    "            {'label': '1시간에 1번', 'value': '1시간에 1번'},\n",
    "            {'label': '아침, 점심, 저녁 한번씩', 'value': '아침, 점심, 저녁 한번씩'}\n",
    "        ],\n",
    "        value = '30분에 1번' # default로 Sang 고정\n",
    "    ),\n",
    "    html.Br(),\n",
    "    html.Br(),\n",
    "    html.Label('만나고 싶은 이성의 거리: (km단위)'),\n",
    "    dcc.Slider(\n",
    "        min = 10, \n",
    "        max = 100,\n",
    "        value = 1,\n",
    "    ),\n",
    "    html.Br(),\n",
    "    html.Br(),\n",
    "    html.Label('Email Address:'),\n",
    "    dcc.Input(\n",
    "        placeholder= 'Input email address',\n",
    "        type = 'text',\n",
    "        value = '',\n",
    "    ),\n",
    "    html.Br(),\n",
    "    html.Br(),\n",
    "\n",
    "    html.Label('본인 소개글:'),\n",
    "    html.Br(),\n",
    "    html.Br(),\n",
    "\n",
    "    dcc.Textarea(\n",
    "        placeholder= 'Comments',\n",
    "        style = {'width': '70%'}\n",
    "    ),\n",
    "    html.Br(),\n",
    "    html.Br(),\n",
    "    \n",
    "    html.Label('본인의 MBTI 입력해주세요:'),\n",
    "    \n",
    "    html.Br(),\n",
    "    html.Br(),\n",
    "\n",
    "\n",
    "    dcc.Checklist(\n",
    "        options = [\n",
    "            {'label': 'ENFP', 'value': 'ENFP'},\n",
    "            {'label': 'INTJ', 'value': 'INTJ'},\n",
    "            {'label': 'ESTP', 'value': 'ESTP'},\n",
    "            {'label': 'INFP', 'value': 'INFP'},\n",
    "        ]),\n",
    "    html.Br(),\n",
    "    html.Button('제출')\n",
    "\n",
    "\n",
    "])\n",
    "if __name__ == '__main__':\n",
    "    app.run_server(port = 4050)"
   ]
  },
  {
   "cell_type": "code",
   "execution_count": null,
   "id": "8759d6e1",
   "metadata": {},
   "outputs": [],
   "source": []
  }
 ],
 "metadata": {
  "kernelspec": {
   "display_name": "Python 3 (ipykernel)",
   "language": "python",
   "name": "python3"
  },
  "language_info": {
   "codemirror_mode": {
    "name": "ipython",
    "version": 3
   },
   "file_extension": ".py",
   "mimetype": "text/x-python",
   "name": "python",
   "nbconvert_exporter": "python",
   "pygments_lexer": "ipython3",
   "version": "3.9.13"
  }
 },
 "nbformat": 4,
 "nbformat_minor": 5
}
